{
 "cells": [
  {
   "cell_type": "markdown",
   "id": "e611a7c0-d940-43e2-818a-9e1ee8d4db55",
   "metadata": {},
   "source": [
    "# Data Science Tools and Ecosystem"
   ]
  },
  {
   "cell_type": "markdown",
   "id": "f8758a3a-584e-41b6-9c43-341099e415f3",
   "metadata": {},
   "source": [
    " ## In this notebook, Data Science Tools and Ecosystem are summarized"
   ]
  },
  {
   "cell_type": "markdown",
   "id": "f6c2b71c-fc21-402d-8e12-0c712627ae9d",
   "metadata": {},
   "source": [
    "**Objectives:**\n",
    "---\n",
    "* **List popular languages for Data Science**\n",
    "* **Identify common data science libraries**\n",
    "* **Understand development environment open source tools**\n",
    "* **Perform basic arithmetic operations in code cells**\n",
    "* **Convert units using code**"
   ]
  },
  {
   "cell_type": "markdown",
   "id": "3a2a2acd-b75d-4e9e-b82a-8f3a67872713",
   "metadata": {},
   "source": [
    "## Author\n",
    "---\n",
    "ISMAIL EL BOUDI"
   ]
  },
  {
   "cell_type": "markdown",
   "id": "71f37db7-adaf-406f-9832-352877740903",
   "metadata": {},
   "source": [
    "## Some of the commonly used libraries used by Data Scientists include:\n",
    "* Python \n",
    "* R \n",
    "* Julia "
   ]
  },
  {
   "cell_type": "markdown",
   "id": "18fb85fb-9ab5-4414-8dfd-243d7331174f",
   "metadata": {},
   "source": [
    "## Some of the commonly used libraries used by Data Scientists include:\n",
    "* numpy\n",
    "* pandas\n",
    "* matplotlib"
   ]
  },
  {
   "cell_type": "markdown",
   "id": "46eafe46-ac39-47c8-b9b8-e14c40f29c5d",
   "metadata": {},
   "source": [
    "| Data Science Tools |\n",
    "|--------------------|\n",
    "| Jupyter Notebook   |\n",
    "| RStudio            |\n",
    "| VS Code (with Python/R extensions) |"
   ]
  },
  {
   "cell_type": "markdown",
   "id": "59d8492b-d2ff-4cf5-b158-418222c53626",
   "metadata": {},
   "source": [
    "### Below are a few examples of evaluating arithmetic expressions in Python"
   ]
  },
  {
   "cell_type": "code",
   "execution_count": 15,
   "id": "4c55d686-ae35-4be6-b413-e556319341e5",
   "metadata": {},
   "outputs": [
    {
     "data": {
      "text/plain": [
       "17"
      ]
     },
     "execution_count": 15,
     "metadata": {},
     "output_type": "execute_result"
    }
   ],
   "source": [
    "# This a simple arithmetic expression to mutiply then add integers\n",
    "(3*4)+5"
   ]
  },
  {
   "cell_type": "code",
   "execution_count": 23,
   "id": "8fd7af8c-1d2d-4f12-8bbb-a184c984c501",
   "metadata": {},
   "outputs": [
    {
     "name": "stdout",
     "output_type": "stream",
     "text": [
      "3.3333333333333335 hours\n"
     ]
    }
   ],
   "source": [
    "#  This will convert 200 minutes to hours by diving by 60\n",
    "minutes = 200\n",
    "hours = minutes/60\n",
    "print(f\"{hours} hours\")"
   ]
  },
  {
   "cell_type": "code",
   "execution_count": null,
   "id": "1a9819a0-f1c9-4656-bdf0-d6692bcb1616",
   "metadata": {},
   "outputs": [],
   "source": []
  }
 ],
 "metadata": {
  "kernelspec": {
   "display_name": "Python 3 (ipykernel)",
   "language": "python",
   "name": "python3"
  },
  "language_info": {
   "codemirror_mode": {
    "name": "ipython",
    "version": 3
   },
   "file_extension": ".py",
   "mimetype": "text/x-python",
   "name": "python",
   "nbconvert_exporter": "python",
   "pygments_lexer": "ipython3",
   "version": "3.12.7"
  }
 },
 "nbformat": 4,
 "nbformat_minor": 5
}
